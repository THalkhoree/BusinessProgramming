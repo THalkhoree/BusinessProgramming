{
 "cells": [
  {
   "cell_type": "markdown",
   "metadata": {
    "id": "Z8lc5lPfpxup"
   },
   "source": [
    "# Sundae Winner \n",
    "\n",
    "Other than (maybe) in the lectures, we haven't done any programing. Even so, Python doesn't look that hard. Below is the Python code we saw last week from Sharpen_Pencil.PDF. Perform the tasks below. If you get stuckm don't worry, we will go thorough the answers.\n",
    "\n",
    "### Task 0 - Run the program\n",
    "\n",
    "To make sure you understand what is happening, try running the cod a few times.\n",
    "\n",
    "``` To run the code, click insode the cell and either click the 'play' icon or hit shift+enter together``` \n",
    "\n",
    "\n",
    "### Task 1 - Understanding input\n",
    "\n",
    "Which of the following will give you a cherry on top? What happens if when the program asks (prompts) you for a cherry on top you type (notice the different uppercase letters in the input): \n",
    "\n",
    "1. Yes\n",
    "2. yeS\n",
    "3. YES\n",
    "4. yes\n",
    "5. no\n",
    "6. NO\n",
    "\n",
    "### Task 2 - editing a program\n",
    "\n",
    "Other than in the lectures, we haven't done any programing. Even so, Python doesn;t look that hard.  Try to make the following following changes, if you get stuckm don;t worry, your lecturer will go thorough the answers:\n",
    "* Change 'Stacie' to 'Stacy'\n",
    "* Add your name to the list\n",
    "\n",
    "### Task 3 - Workflow\n",
    "\n",
    "After each change, rerun the program to make sure the chages has bene applied. When you have the change has worked, save the notebook to GitHub.\n",
    "\n",
    "Here is our workflow\n",
    "* Open/Create/import notebook into Colab\n",
    "* Make sure notebook has meaningfuly name\n",
    "* Design, edit make changest in Colab Tab\n",
    "* Save regulary to GitHub (close GitHub window after save)\n",
    "* Continue with edits in the colab tab.\n",
    "\n",
    "\n",
    "\n",
    "# The Program itself \n",
    "\n",
    "We will talk more about the ```import``` statement later lecture, but briefly it is a way of letting you use code from elsewhere.  We call this process ```import``` and the code form else where is bundled into a package or modules.    So in the following, some programmer worked out how to get the comuter to generate random numbers, and put this into a module called ```random```.  Since we want to use use we need to ```import``` the module."
   ]
  },
  {
   "cell_type": "code",
   "execution_count": 1,
   "metadata": {
    "colab": {
     "base_uri": "https://localhost:8080/"
    },
    "id": "y4lK6jddpTME",
    "outputId": "fdee25ac-708a-400d-b8ad-2840d61ce518"
   },
   "outputs": [
    {
     "name": "stdout",
     "output_type": "stream",
     "text": [
      "Congratulations Stacie you have won an ice cream sundae!\n",
      "Would you like a cherry on top? no\n",
      "One vanilla sundae  for Stacie coming right up...\n"
     ]
    }
   ],
   "source": [
    "import random\n",
    "\n",
    "customers =  ['Jimmy', 'Kim', 'John', 'Stacie']\n",
    "\n",
    "winner = random.choice(customers)\n",
    "\n",
    "flavor = 'vanilla'\n",
    "\n",
    "print('Congratulations ' + winner +\n",
    " ' you have won an ice cream sundae!')\n",
    "\n",
    "prompt = 'Would you like a cherry on top? '\n",
    "\n",
    "wants_cherry = input(prompt)\n",
    "\n",
    "order = flavor + ' sundae '\n",
    "\n",
    "if (wants_cherry == 'yes'):\n",
    " order = order + ' with a cherry on top'\n",
    "\n",
    "print('One ' + order + ' for ' + winner +\n",
    " ' coming right up...')"
   ]
  },
  {
   "cell_type": "markdown",
   "metadata": {
    "id": "HrxSqDWcv456"
   },
   "source": [
    "### Task 4 - Multiple winners\n",
    "\n",
    "No coding is required for this task, this is a thiking exercise where you can write your ideas down.  We are not worried  about how to do it specifically in Python. It is more important to think about what needs to be done. Google, StackOverflow, Books, etc., will help with the how. The hard part is working out the what (Problem-solving).\n",
    "\n",
    "How could the program to have two people win a sundae?  What steps need to be added?   "
   ]
  },
  {
   "cell_type": "code",
   "execution_count": 3,
   "metadata": {
    "id": "gJF7dKtxtYMn"
   },
   "outputs": [
    {
     "ename": "SyntaxError",
     "evalue": "unterminated string literal (detected at line 11) (2051533094.py, line 11)",
     "output_type": "error",
     "traceback": [
      "\u001b[1;36m  Cell \u001b[1;32mIn[3], line 11\u001b[1;36m\u001b[0m\n\u001b[1;33m    print('two' + order + 'for' + winner + winner + 'coming right up...\")\u001b[0m\n\u001b[1;37m                                                    ^\u001b[0m\n\u001b[1;31mSyntaxError\u001b[0m\u001b[1;31m:\u001b[0m unterminated string literal (detected at line 11)\n"
     ]
    }
   ],
   "source": [
    "import random\n",
    "customers= ['Jimmy', 'Kim', 'John', 'Stacie']\n",
    "winner= random.choice (customers)\n",
    "flavor= 'Vanilla'\n",
    "print('Congratulations'+ winner + winner +'You have won an icecream sundae !')\n",
    "prompt='Would you like a cherry on top?'\n",
    "wants_cherry= input(prompt)\n",
    "order=flavor + 'sundae'\n",
    "if(wants_cherry='Yes'):\n",
    "    Order =Order + 'With a cherry on top'\n",
    "print('two' + order + 'for' + winner + winner + 'coming right up...\")\n",
    "      "
   ]
  },
  {
   "cell_type": "code",
   "execution_count": 6,
   "metadata": {},
   "outputs": [
    {
     "name": "stdout",
     "output_type": "stream",
     "text": [
      "Congratulations Stacie! You have won an ice cream sundae!\n"
     ]
    },
    {
     "name": "stdin",
     "output_type": "stream",
     "text": [
      "Would you like a cherry on top?  Yes\n"
     ]
    },
    {
     "name": "stdout",
     "output_type": "stream",
     "text": [
      "OneVanilla sundae with a cherry on top for Stacie! Coming right up...\n",
      "Congratulations Jimmy! You have won an ice cream sundae!\n"
     ]
    },
    {
     "name": "stdin",
     "output_type": "stream",
     "text": [
      "Would you like a cherry on top?  No\n"
     ]
    },
    {
     "name": "stdout",
     "output_type": "stream",
     "text": [
      "OneVanilla sundae for Jimmy! Coming right up...\n"
     ]
    }
   ],
   "source": [
    "import random\n",
    "\n",
    "customers = ['Jimmy', 'Kim', 'John', 'Stacie']\n",
    "winners = random.sample(customers, 2)  # Randomly choose 2 winners without replacement\n",
    "flavor = 'Vanilla'\n",
    "\n",
    "for winner in winners:\n",
    "    print('Congratulations ' + winner + '! You have won an ice cream sundae!')\n",
    "    prompt = 'Would you like a cherry on top? '\n",
    "    wants_cherry = input(prompt)\n",
    "\n",
    "    order = flavor + ' sundae'\n",
    "\n",
    "    if wants_cherry == 'Yes':\n",
    "        order += ' with a cherry on top'\n",
    "\n",
    "    print('One' + order + ' for ' + winner + '! Coming right up...')\n"
   ]
  },
  {
   "cell_type": "code",
   "execution_count": null,
   "metadata": {},
   "outputs": [],
   "source": []
  }
 ],
 "metadata": {
  "colab": {
   "name": "sundae_winner.ipynb",
   "provenance": []
  },
  "kernelspec": {
   "display_name": "Python 3 (ipykernel)",
   "language": "python",
   "name": "python3"
  },
  "language_info": {
   "codemirror_mode": {
    "name": "ipython",
    "version": 3
   },
   "file_extension": ".py",
   "mimetype": "text/x-python",
   "name": "python",
   "nbconvert_exporter": "python",
   "pygments_lexer": "ipython3",
   "version": "3.12.2"
  }
 },
 "nbformat": 4,
 "nbformat_minor": 4
}
