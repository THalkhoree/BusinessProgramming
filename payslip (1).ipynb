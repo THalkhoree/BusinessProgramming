{
 "cells": [
  {
   "cell_type": "markdown",
   "metadata": {
    "id": "kF8ldRydTDPx"
   },
   "source": [
    "# Payslip\n",
    "\n",
    "A payslip is a document that shows their total wages earned for a set period. \n",
    "This might be from a salary, hourly wages or commission. Payslips are also know as\n",
    "‘pay advice’.  Traditionally the payslip was a paper document attached. Today\n",
    "most organisations provide them electronically.\n",
    "\n",
    "## Task 0 - Import into GitHub\n",
    "First, import the notebook into Colab and save an initial copy to GitHub.\n",
    "\n",
    "## Task 1 - Start Simple\n",
    "\n",
    "Writing complete robust programs can take time.  Often the more we understand a \n",
    "problem the easier it is to implement the solution.   One approach is to \n",
    "implement the simplest version of a program and then slowly add functionality.\n",
    "\n",
    "The aim of this notebook is to start simple and slowly build up the program.\n",
    "The approach we take below is one way to understand a problem, step 1 of our\n",
    "development process. For complex projects, they often follow a similar idea\n",
    "where they implement a minimal program, and each week or month have intense \n",
    "periods were the team adds functionality.  These advanced methodologies are \n",
    "beyond the scope of an introductory programming course but start small and \n",
    "slowly add functionality we do capture the essence of the process.\n",
    "\n",
    "\n",
    "### The Initial (minimal) Program\n",
    "\n",
    "Consider 'Ram' who has a salary of \\$25000.  They have sold goods worth $20000 \n",
    "and earns 2% commission on the sales. They fall into the 10% tax bracket. We \n",
    "will talk about tax-brackets in another notebook. Before making payments the\n",
    "organisation needs to deduct 10% tax.\n",
    "\n",
    "We need to program to print out a payslip for sales people.  Our payslip\n",
    "is very simple, we need a title, the amount of salary, the amount of commission, \n",
    "the amount of tax, and the total pay.\n",
    "\n",
    "Run the following program for one person."
   ]
  },
  {
   "cell_type": "code",
   "execution_count": 3,
   "metadata": {
    "colab": {
     "base_uri": "https://localhost:8080/"
    },
    "id": "2UenEHfcTuLz",
    "outputId": "7e9ec9ab-f5d9-4b0b-f5e5-bfa5d2a605ce"
   },
   "outputs": [
    {
     "name": "stdout",
     "output_type": "stream",
     "text": [
      "Payslip of Ram\n",
      "Salary 25000 Commission 400.0 Tax 2540.0\n",
      "Total pay 22860.0\n"
     ]
    }
   ],
   "source": [
    "salary = 25000\n",
    "sales = 20000\n",
    "commission = 0.02 * sales\n",
    "tax = (salary + commission) * 0.10\n",
    "pay = salary + commission - tax\n",
    "print('Payslip of Ram')\n",
    "print('Salary', salary,'Commission',commission,'Tax', tax)\n",
    "print('Total pay',pay)"
   ]
  },
  {
   "cell_type": "markdown",
   "metadata": {
    "id": "QzcJGzRBUDz2"
   },
   "source": [
    "Now, consider 'Radha' who has a salary of \\$30000.  They have sold goods worth $40000 and earns 2.5% commision on the sales. They fall into the 10% tax bracket and so before making payments we need to deduct 10% form his total payout."
   ]
  },
  {
   "cell_type": "code",
   "execution_count": 1,
   "metadata": {
    "id": "wFmuD9ujUgDW"
   },
   "outputs": [
    {
     "name": "stdout",
     "output_type": "stream",
     "text": [
      "Payslip for Radha\n",
      "Salary: 30000\n",
      "Commission: 1000.0\n",
      "Tax: 3100.0\n",
      "Total Pay: 27900.0\n"
     ]
    }
   ],
   "source": [
    "# Define the variables for Radha\n",
    "name_radha = \"Radha\"\n",
    "salary_radha = 30000\n",
    "sales_radha = 40000\n",
    "commission_rate_radha = 0.025\n",
    "tax_rate_radha = 0.10\n",
    "\n",
    "# Calculate commission amount for Radha\n",
    "commission_radha = sales_radha * commission_rate_radha\n",
    "\n",
    "# Calculate total earnings before tax deduction for Radha\n",
    "total_earnings_radha = salary_radha + commission_radha\n",
    "\n",
    "# Calculate tax amount for Radha\n",
    "tax_radha = total_earnings_radha * tax_rate_radha\n",
    "\n",
    "# Calculate total pay for Radha after tax deduction\n",
    "total_pay_radha = total_earnings_radha - tax_radha\n",
    "\n",
    "# Print the payslip for Radha\n",
    "print(\"Payslip for\", name_radha)\n",
    "print(\"Salary:\", salary_radha)\n",
    "print(\"Commission:\", commission_radha)\n",
    "print(\"Tax:\", tax_radha)\n",
    "print(\"Total Pay:\", total_pay_radha)\n"
   ]
  },
  {
   "cell_type": "markdown",
   "metadata": {
    "id": "UFGObxq7UlvE"
   },
   "source": [
    "## Task 2 - Generalise\n",
    "\n",
    "What did we change from Ram to Radha?"
   ]
  },
  {
   "cell_type": "code",
   "execution_count": 2,
   "metadata": {
    "id": "zMEi9q1dUr36"
   },
   "outputs": [
    {
     "ename": "SyntaxError",
     "evalue": "unterminated string literal (detected at line 5) (4089492655.py, line 5)",
     "output_type": "error",
     "traceback": [
      "\u001b[1;36m  Cell \u001b[1;32mIn[2], line 5\u001b[1;36m\u001b[0m\n\u001b[1;33m    -The calculation for comission was updated based on Radha's sales.\u001b[0m\n\u001b[1;37m                                                             ^\u001b[0m\n\u001b[1;31mSyntaxError\u001b[0m\u001b[1;31m:\u001b[0m unterminated string literal (detected at line 5)\n"
     ]
    }
   ],
   "source": [
    "-The name was updated from 'Ram' to 'Radha'\n",
    "-Change in the salary variable from 20000 to 30000 from Radha\n",
    "-There was an update in the sales variable from 0 to 40000 for Radha\n",
    "-The commission rate was adjusted from 0.02 to 0.025 for Radha\n",
    "-The calculation for comission was updated based on Radha's sales.\n",
    "-The total earing before tax deduction for Radhe was calculated based on their salary and commission.\n",
    "-The tax calculation was adjusted to apply to Radha's total earning\n",
    "-The total pay for Radha was calculated after deducting tax from their total earning\n"
   ]
  },
  {
   "cell_type": "markdown",
   "metadata": {
    "id": "7PrlmDmYV6iX"
   },
   "source": [
    "Make what we changed as inputs (parameters) to a function"
   ]
  },
  {
   "cell_type": "code",
   "execution_count": 3,
   "metadata": {
    "id": "cJwgf8nZWDF6"
   },
   "outputs": [
    {
     "name": "stdout",
     "output_type": "stream",
     "text": [
      "Payslip for Ram:\n",
      "{'Name': 'Ram', 'Salary': 20000, 'Sales': 0, 'Commission': 0.0, 'Tax': 2000.0, 'Total Pay': 18000.0}\n",
      "\n",
      "Payslip for Radha:\n",
      "{'Name': 'Radha', 'Salary': 30000, 'Sales': 40000, 'Commission': 1000.0, 'Tax': 3100.0, 'Total Pay': 27900.0}\n"
     ]
    }
   ],
   "source": [
    "def generate_payslip(name, salary, sales, commission_rate, tax_rate):\n",
    "    # Calculate commission amount\n",
    "    commission = sales * commission_rate\n",
    "    \n",
    "    # Calculate total earnings before tax deduction\n",
    "    total_earnings = salary + commission\n",
    "    \n",
    "    # Calculate tax amount\n",
    "    tax = total_earnings * tax_rate\n",
    "    \n",
    "    # Calculate total pay after tax deduction\n",
    "    total_pay = total_earnings - tax\n",
    "    \n",
    "    # Return payslip information\n",
    "    payslip_info = {\n",
    "        \"Name\": name,\n",
    "        \"Salary\": salary,\n",
    "        \"Sales\": sales,\n",
    "        \"Commission\": commission,\n",
    "        \"Tax\": tax,\n",
    "        \"Total Pay\": total_pay\n",
    "    }\n",
    "    return payslip_info\n",
    "\n",
    "# Example usage for 'Ram'\n",
    "ram_payslip = generate_payslip(\"Ram\", 20000, 0, 0.02, 0.10)\n",
    "print(\"Payslip for Ram:\")\n",
    "print(ram_payslip)\n",
    "\n",
    "# Example usage for 'Radha'\n",
    "radha_payslip = generate_payslip(\"Radha\", 30000, 40000, 0.025, 0.10)\n",
    "print(\"\\nPayslip for Radha:\")\n",
    "print(radha_payslip)\n"
   ]
  },
  {
   "cell_type": "code",
   "execution_count": null,
   "metadata": {},
   "outputs": [],
   "source": []
  }
 ],
 "metadata": {
  "colab": {
   "name": "payslip.ipynb",
   "provenance": []
  },
  "kernelspec": {
   "display_name": "Python 3 (ipykernel)",
   "language": "python",
   "name": "python3"
  },
  "language_info": {
   "codemirror_mode": {
    "name": "ipython",
    "version": 3
   },
   "file_extension": ".py",
   "mimetype": "text/x-python",
   "name": "python",
   "nbconvert_exporter": "python",
   "pygments_lexer": "ipython3",
   "version": "3.12.2"
  }
 },
 "nbformat": 4,
 "nbformat_minor": 4
}
