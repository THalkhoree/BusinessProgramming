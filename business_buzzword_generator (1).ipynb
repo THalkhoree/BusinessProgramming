{
 "cells": [
  {
   "cell_type": "markdown",
   "id": "f8b21259-c1a0-4ecb-a02f-e35565841067",
   "metadata": {},
   "source": [
    "# Business Buzzword Generator\n",
    "\n",
    "Lets write a real-world business-like application using Python!\n",
    "\n",
    "Want to write a program to generate business phrases.  These could be used as\n",
    "title for presentation, podcast, video, article or just for fun.\n",
    "\n",
    "## Task 0 - Import to GitHub\n",
    "\n",
    "In a browser:\n",
    "* Login to Google\n",
    "* Login to GitHub\n",
    "* Import notebook into Colab\n",
    "* Save to GitHub. Don't forget the commit message.\n",
    "* Complete the tasks saving regularly to GitHub\n",
    "\n",
    "## Task 1 - Convert to Python!\n",
    "\n",
    "As you go through the task, keep in mind our 5-step development process:\n",
    "* State the Problem Clearly\n",
    "* Describe the input and Output\n",
    "* Work a simple example by hand\n",
    "* Develop an algorithm (and convert to Python)\n",
    "* Test solution with a variety of data\n",
    "\n",
    "For this notebook, steps 1-4 have been completed and you only need to convert \n",
    "the supplied pseudocode into Python.\n",
    "\n",
    "The program uses three lists of words. Randomly picks one word from each list \n",
    "and combines the words into a phrase.  Then print out the phrase. Here is \n",
    "the pseudocode:\n",
    "\n",
    "    importing the random module\n",
    "    make three lists, one of buzzword, one of actions, and one of outcomes\n",
    "    randomly choose one buzzword, action, and outcome from each list\n",
    "    now build the phrase by \"adding\" the words together\n",
    "    output the phrase\n",
    "\n",
    "\n",
    "A good way to use pseudocode is make each line(s) a comment(s) in the code. \n",
    "\n",
    "Each line of pseudo code has been pasted into a cell below.  \n",
    "\n",
    "Try to implement each as python statement or statements."
   ]
  },
  {
   "cell_type": "code",
   "execution_count": 2,
   "id": "6b9a2fc6-f8ae-4778-a5e7-9659136091fd",
   "metadata": {},
   "outputs": [],
   "source": [
    "# importing the random module\n",
    "import random\n"
   ]
  },
  {
   "cell_type": "code",
   "execution_count": 3,
   "id": "52db4e24-c2e3-46f2-8a96-0fece1f437f2",
   "metadata": {},
   "outputs": [],
   "source": [
    "# make three lists, one of buzzwords, one of actions, and one of outcomes\n",
    "buzzwords = [\"synergize\", \"leverage\", \"disrupt\", \"pivot\", \"innovate\"]\n",
    "actions = [\"optimize\", \"transform\", \"streamline\", \"revolutionize\", \"reinvent\"]\n",
    "outcomes = [\"solutions\", \"paradigms\", \"ecosystems\", \"infrastructures\", \"strategies\"]\n"
   ]
  },
  {
   "cell_type": "code",
   "execution_count": 4,
   "id": "2538b8fa-1dc9-4bfd-84d8-6753b9a88218",
   "metadata": {},
   "outputs": [],
   "source": [
    "# randomly choose one buzzword, action, and outcome from each list\n",
    "random_buzzword = random.choice(buzzwords)\n",
    "random_action = random.choice(actions)\n",
    "random_outcome = random.choice(outcomes)\n"
   ]
  },
  {
   "cell_type": "code",
   "execution_count": 4,
   "id": "95c40fea-40d0-49e6-afe5-c181da731368",
   "metadata": {},
   "outputs": [],
   "source": [
    "# build the phrase by \"adding\" the words together\n",
    "phrase = random_buzzword + \" \" + random_action + \" \" + random_outcome\n"
   ]
  },
  {
   "cell_type": "code",
   "execution_count": 7,
   "id": "3e36c71d-ef4b-40d5-ac7f-a7717460e28f",
   "metadata": {},
   "outputs": [
    {
     "ename": "NameError",
     "evalue": "name 'phrase' is not defined",
     "output_type": "error",
     "traceback": [
      "\u001b[1;31m---------------------------------------------------------------------------\u001b[0m",
      "\u001b[1;31mNameError\u001b[0m                                 Traceback (most recent call last)",
      "Cell \u001b[1;32mIn[7], line 2\u001b[0m\n\u001b[0;32m      1\u001b[0m \u001b[38;5;66;03m# output the phrase\u001b[39;00m\n\u001b[1;32m----> 2\u001b[0m \u001b[38;5;28mprint\u001b[39m(\u001b[43mphrase\u001b[49m)\n",
      "\u001b[1;31mNameError\u001b[0m: name 'phrase' is not defined"
     ]
    }
   ],
   "source": [
    "# output the phrase\n",
    "print(phrase)\n"
   ]
  },
  {
   "cell_type": "markdown",
   "id": "5c5d439f",
   "metadata": {},
   "source": [
    "## Task 2 (Optional) - Phrase Generator\n",
    "\n",
    "This task is optional.  For this task, lets think about way we could extend\n",
    "the program.  Here are some question to think about.  No Python code is needed.\n",
    "Thinking is probably enough, but if you want you can write a couple of \n",
    "sentences on what you think is required.\n",
    "* Can it be modified to generate other types of phrases? How about three lists of ingredients, and generate simple recipes? How about and idea or project generator?\n",
    "* Why limit it to three words?  \n",
    "* Does the order of the words matter?\n",
    "* Could we create sentences? If we create sentences, could we combine them to create paragraphs? Could we specify a topic, and have the program write an essay? Would this make it 'smart'?\n"
   ]
  },
  {
   "cell_type": "code",
   "execution_count": null,
   "id": "71838d24-05d5-44cb-ae5a-1195fd805622",
   "metadata": {},
   "outputs": [],
   "source": [
    "The Phrase Generator program can be extended to generate various types of phrases beyond buzzword combinations. For example:\n",
    "- It could be modified to generate simple recipes by using lists of ingredients, cooking methods, and serving suggestions.\n",
    "- Another possibility is to create an idea or project generator by using lists of concepts, actions, and outcomes relevant to the domain.\n",
    "- There's no need to limit it to three words; the program can be adapted to handle any number of lists and combine more words in the generated phrases.\n",
    "- The order of the words can matter depending on the desired output. For example, in recipes, the order of ingredients and steps is crucial, while in other cases, it might not matter as much.\n",
    "- Yes, we could create sentences by ensuring grammatical coherence and logical flow. These sentences could then be combined to create paragraphs or longer text, potentially enabling the program to write essays on specified topics.\n",
    "- All these extensions would contribute to making the program more versatile and 'smart' by allowing it to generate a wider range of content beyond simple phrases, making it useful in various contexts such as content generation, brainstorming, or even educational purposes."
   ]
  }
 ],
 "metadata": {
  "kernelspec": {
   "display_name": "Python 3 (ipykernel)",
   "language": "python",
   "name": "python3"
  },
  "language_info": {
   "codemirror_mode": {
    "name": "ipython",
    "version": 3
   },
   "file_extension": ".py",
   "mimetype": "text/x-python",
   "name": "python",
   "nbconvert_exporter": "python",
   "pygments_lexer": "ipython3",
   "version": "3.12.2"
  }
 },
 "nbformat": 4,
 "nbformat_minor": 5
}
