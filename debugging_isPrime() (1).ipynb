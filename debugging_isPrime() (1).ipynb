{
 "cells": [
  {
   "cell_type": "markdown",
   "metadata": {
    "colab_type": "text",
    "id": "view-in-github"
   },
   "source": [
    "<a href=\"https://colab.research.google.com/github/michael-borck/isys2001-worksheets/blob/main/debugging_isPrime().ipynb\" target=\"_parent\"><img src=\"https://colab.research.google.com/assets/colab-badge.svg\" alt=\"Open In Colab\"/></a>"
   ]
  },
  {
   "cell_type": "markdown",
   "metadata": {
    "id": "LIfoDVzKX7uK"
   },
   "source": [
    "## Debug isPrime()\n",
    "What is your preferred method? Do you like using print() or prefer *pdb*?   Since mistakes in programs will happen, the important part is that you have a debugging strategy, not which tool you use.\n",
    "\n",
    "Here is a function that needs debugging. Using either print() or *pdb*, debug the following function."
   ]
  },
  {
   "cell_type": "code",
   "execution_count": 1,
   "metadata": {
    "id": "YH9gDoOYvKwg"
   },
   "outputs": [
    {
     "name": "stdout",
     "output_type": "stream",
     "text": [
      "Candidate: 7\n",
      "Lower: 6\n",
      "Candidate: 7\n",
      "Lower: 5\n",
      "Candidate: 7\n",
      "Lower: 4\n",
      "Candidate: 7\n",
      "Lower: 3\n",
      "Candidate: 7\n",
      "Lower: 2\n",
      "True\n",
      "Candidate: 9\n",
      "Lower: 8\n",
      "Candidate: 9\n",
      "Lower: 7\n",
      "Candidate: 9\n",
      "Lower: 6\n",
      "Candidate: 9\n",
      "Lower: 5\n",
      "Candidate: 9\n",
      "Lower: 4\n",
      "Candidate: 9\n",
      "Lower: 3\n",
      "Division result: 3.0\n",
      "False\n"
     ]
    }
   ],
   "source": [
    "def isPrime(candidate):\n",
    "    if candidate <= 1:\n",
    "        return False\n",
    "\n",
    "    lower = candidate - 1\n",
    "    while lower > 1:\n",
    "        print(\"Candidate:\", candidate)\n",
    "        print(\"Lower:\", lower)\n",
    "        if candidate / lower == candidate // lower:\n",
    "            print(\"Division result:\", candidate / lower)\n",
    "            return False\n",
    "        lower -= 1\n",
    "\n",
    "    return True\n",
    "\n",
    "# Test the function\n",
    "print(isPrime(7))  # Should return True\n",
    "print(isPrime(9))  # Should return False\n"
   ]
  },
  {
   "cell_type": "code",
   "execution_count": 2,
   "metadata": {},
   "outputs": [
    {
     "name": "stdout",
     "output_type": "stream",
     "text": [
      "True\n",
      "False\n"
     ]
    }
   ],
   "source": [
    "def isPrime(candidate):\n",
    "    if candidate <= 1:\n",
    "        return False\n",
    "\n",
    "    lower = candidate - 1\n",
    "    while lower > 1:\n",
    "        if candidate % lower == 0:\n",
    "            return False\n",
    "        lower -= 1\n",
    "\n",
    "    return True\n",
    "\n",
    "# Test the function\n",
    "print(isPrime(7))  # Should return True\n",
    "print(isPrime(9))  # Should return False\n"
   ]
  },
  {
   "cell_type": "code",
   "execution_count": null,
   "metadata": {},
   "outputs": [],
   "source": []
  }
 ],
 "metadata": {
  "colab": {
   "authorship_tag": "ABX9TyPaQJF8xZwL61v35e2F75EX",
   "include_colab_link": true,
   "name": "debugging_isPrime().ipynb",
   "provenance": []
  },
  "kernelspec": {
   "display_name": "Python 3 (ipykernel)",
   "language": "python",
   "name": "python3"
  },
  "language_info": {
   "codemirror_mode": {
    "name": "ipython",
    "version": 3
   },
   "file_extension": ".py",
   "mimetype": "text/x-python",
   "name": "python",
   "nbconvert_exporter": "python",
   "pygments_lexer": "ipython3",
   "version": "3.12.2"
  }
 },
 "nbformat": 4,
 "nbformat_minor": 4
}
