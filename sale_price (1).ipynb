{
 "cells": [
  {
   "cell_type": "markdown",
   "metadata": {
    "colab_type": "text",
    "id": "view-in-github"
   },
   "source": [
    "<a href=\"https://colab.research.google.com/github/michael-borck/isys2001-worksheets/blob/main/sale_price.ipynb\" target=\"_parent\"><img src=\"https://colab.research.google.com/assets/colab-badge.svg\" alt=\"Open In Colab\"/></a>"
   ]
  },
  {
   "cell_type": "markdown",
   "metadata": {
    "id": "cgTeiXOtSPjH"
   },
   "source": [
    "# Sales Price\n",
    "\n",
    "A local department store needs to develop a program that will computer the total price (including goods and services tax) of the item on sale when given an item's original price and discount percentage.\n",
    "\n",
    "## Tasks\n",
    "* Save to Github\n",
    "* Design Algorithm\n",
    "* Write and test the program in Python"
   ]
  },
  {
   "cell_type": "code",
   "execution_count": null,
   "metadata": {
    "id": "pPIN2ZcrSqdw"
   },
   "outputs": [],
   "source": [
    "def calculate_total_price(original_price, discount_percentage, tax_rate):\n",
    "    # Calculate discounted price\n",
    "    discounted_price = original_price - (original_price * (discount_percentage / 100))\n",
    "    \n",
    "    # Calculate goods and services tax\n",
    "    gst = discounted_price * (tax_rate / 100)\n",
    "    \n",
    "    # Calculate total price\n",
    "    total_price = discounted_price + gst\n",
    "    \n",
    "    return total_price\n",
    "\n",
    "def main():\n",
    "    # Input original price, discount percentage, and tax rate\n",
    "    original_price = float(input(\"Enter the original price of the item: $\"))\n",
    "    discount_percentage = float(input(\"Enter the discount percentage: \"))\n",
    "    tax_rate = float(input(\"Enter the goods and services tax rate: \"))\n",
    "    \n",
    "    # Calculate total price\n",
    "    total_price = calculate_total_price(original_price, discount_percentage, tax_rate)\n",
    "    \n",
    "    # Output total price\n",
    "    print(\"Total price (including GST): $\", total_price)\n",
    "\n",
    "if __name__ == \"__main__\":\n",
    "    main()\n"
   ]
  },
  {
   "cell_type": "code",
   "execution_count": null,
   "metadata": {},
   "outputs": [],
   "source": []
  }
 ],
 "metadata": {
  "colab": {
   "include_colab_link": true,
   "name": "sale_price.ipynb",
   "provenance": []
  },
  "kernelspec": {
   "display_name": "Python 3 (ipykernel)",
   "language": "python",
   "name": "python3"
  },
  "language_info": {
   "codemirror_mode": {
    "name": "ipython",
    "version": 3
   },
   "file_extension": ".py",
   "mimetype": "text/x-python",
   "name": "python",
   "nbconvert_exporter": "python",
   "pygments_lexer": "ipython3",
   "version": "3.12.2"
  }
 },
 "nbformat": 4,
 "nbformat_minor": 4
}
