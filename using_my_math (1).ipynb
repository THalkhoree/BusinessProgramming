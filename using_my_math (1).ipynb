{
 "cells": [
  {
   "cell_type": "markdown",
   "metadata": {
    "colab_type": "text",
    "id": "view-in-github"
   },
   "source": [
    "<a href=\"https://colab.research.google.com/github/michael-borck/isys2001-worksheets/blob/main/using_my_math.ipynb\" target=\"_parent\"><img src=\"https://colab.research.google.com/assets/colab-badge.svg\" alt=\"Open In Colab\"/></a>"
   ]
  },
  {
   "cell_type": "markdown",
   "metadata": {
    "id": "pM6Ipzg-fJzT"
   },
   "source": [
    "# Test Module: my_math.ipynb\n",
    "\n",
    "In this notebook, write some code to test the functions in *my_math.ipynb* by importing the file as python module. *my_math.ipynb* has some basic arithmetic functions in it.\n",
    "\n",
    "We will try importing as a python script and as a notebook.\n",
    "\n",
    "## Task 0 - Import this notebook to GitHub\n",
    "Save the notebook to your local GitHub repository.\n",
    "\n",
    "## Task 1 - Import as a Python script\n",
    "To do this you will need to:\n",
    "* open my_math.ipynb from the ISYS2001 Worksheets repository\n",
    "* download/save as my_math.py\n",
    "* from this notebook upload my_math.py.  This will put it in the same folder as this notebook.\n",
    "* Import the my_math module\n",
    "\n",
    "    import my_math\n",
    "* write some code to test the functions in my_math module"
   ]
  },
  {
   "cell_type": "code",
   "execution_count": null,
   "metadata": {
    "id": "vc2SBxd8fDyE"
   },
   "outputs": [],
   "source": [
    "\n"
   ]
  },
  {
   "cell_type": "markdown",
   "metadata": {
    "id": "3mChsfz3hbv2"
   },
   "source": [
    "## Task 2 - Import as a Notebook\n",
    "\n",
    "To do this you will need:\n",
    "* intall margo loader\n",
    "* open my_math.ipynb from the ISYS2001 Worksheets repository\n",
    "* download as a notebook my_math.ipynb\n",
    "* from this notebook upload my_math.ipynb.  This will put it in the same folder as this notebook.\n",
    "* import the notebook\n",
    "    import margo_loader\n",
    "    import my_math\n",
    "\n",
    "* Wrtie some code to test the functions in my_math notebook \n"
   ]
  },
  {
   "cell_type": "code",
   "execution_count": null,
   "metadata": {
    "id": "QOOQhfvIiOss"
   },
   "outputs": [],
   "source": []
  }
 ],
 "metadata": {
  "colab": {
   "authorship_tag": "ABX9TyPoij65mi3M5RwmXotEqd9e",
   "include_colab_link": true,
   "name": "using_my_math.ipynb",
   "provenance": []
  },
  "kernelspec": {
   "display_name": "Python 3 (ipykernel)",
   "language": "python",
   "name": "python3"
  },
  "language_info": {
   "codemirror_mode": {
    "name": "ipython",
    "version": 3
   },
   "file_extension": ".py",
   "mimetype": "text/x-python",
   "name": "python",
   "nbconvert_exporter": "python",
   "pygments_lexer": "ipython3",
   "version": "3.12.2"
  }
 },
 "nbformat": 4,
 "nbformat_minor": 4
}
