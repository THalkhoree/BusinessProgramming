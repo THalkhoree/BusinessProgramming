{
 "cells": [
  {
   "cell_type": "markdown",
   "id": "990c534e-ee5b-4406-ac98-d3357f3bd7ec",
   "metadata": {},
   "source": [
    "# A Taste of Python\n",
    "\n",
    "Computers do two things really well. ***Store values*** and ***perform operations*** on those values\n",
    "\n",
    "You might think they’re doing a whole lot more, as you send texts, shop online, or rely on your phone to navigate in your car; however, everything computers do can be broken down into simple operations that are performed on simple values.\n",
    "\n",
    "Now, part of computational thinking is learning to use these operations and values to build something that is much more sophisticated, complex, and meaningful—and we’re going to get to that. \n",
    "\n",
    "First, though, we’re going to take a look at what these values are, the operations you can perform on them, and just what role variables play in all this.\n",
    "\n",
    "# Store Values\n",
    "\n",
    "### What is a value?\n",
    "\n",
    "Because programs are written to process data, you must have a good understanding of the nature and structure of the data being processed.\n",
    "\n",
    "Data within a program may be a single value, such as a number.  In the cell below try some different numbers, say 123, or 31.7."
   ]
  },
  {
   "cell_type": "code",
   "execution_count": 4,
   "id": "a3506a0d-e007-45b1-920f-d499033baf9f",
   "metadata": {},
   "outputs": [
    {
     "data": {
      "text/plain": [
       "612"
      ]
     },
     "execution_count": 4,
     "metadata": {},
     "output_type": "execute_result"
    }
   ],
   "source": [
    "612\n"
   ]
  },
  {
   "cell_type": "markdown",
   "id": "7e26a95d-228d-41e5-8c4e-895765bc23f7",
   "metadata": {},
   "source": [
    "Data within a program may be a single value, such as a character.  Are the quotes important? Is 'A' different from 'a'?"
   ]
  },
  {
   "cell_type": "code",
   "execution_count": 8,
   "id": "cbd8c919-9732-4f5d-9b82-9209aff137f6",
   "metadata": {},
   "outputs": [
    {
     "data": {
      "text/plain": [
       "'a'"
      ]
     },
     "execution_count": 8,
     "metadata": {},
     "output_type": "execute_result"
    }
   ],
   "source": [
    "'a'"
   ]
  },
  {
   "cell_type": "markdown",
   "id": "d6583eb9-8381-4de7-b70a-3da9bae50b5b",
   "metadata": {},
   "source": [
    "Data within a program may be a single value, such as true or false.  In programming we call the a booloean value, sometimes abbreviated as bool."
   ]
  },
  {
   "cell_type": "code",
   "execution_count": 10,
   "id": "e222c1a7-963f-4ab7-8d95-02fead45cc14",
   "metadata": {},
   "outputs": [
    {
     "data": {
      "text/plain": [
       "'True or false'"
      ]
     },
     "execution_count": 10,
     "metadata": {},
     "output_type": "execute_result"
    }
   ],
   "source": [
    "'True or false'"
   ]
  },
  {
   "cell_type": "markdown",
   "id": "6b5fad28-f83e-4071-8c07-b682f0f8a378",
   "metadata": {},
   "source": [
    "Data within a program may be a group items such as a list.  The list could contian the same or different type of values."
   ]
  },
  {
   "cell_type": "code",
   "execution_count": 11,
   "id": "45204b84-3142-48dc-bb82-15d07ac5bcb5",
   "metadata": {},
   "outputs": [],
   "source": [
    "data_list = [10, 'Hello', 3.14, True, [1,2,3]]"
   ]
  },
  {
   "cell_type": "markdown",
   "id": "5f4d9675-4fac-43f3-a786-e2d82ebd3d3c",
   "metadata": {},
   "source": [
    "Data within a program may be a group items such as a string. "
   ]
  },
  {
   "cell_type": "code",
   "execution_count": 3,
   "id": "a04eb2f0-4f59-47ea-9556-3cba1c88ac1c",
   "metadata": {},
   "outputs": [],
   "source": [
    "group_of_items = ['apple', 'grape', 'orange']"
   ]
  },
  {
   "cell_type": "markdown",
   "id": "f00208cc-adc9-4a36-92b4-1d54f08c3d7a",
   "metadata": {},
   "source": [
    "Is there a way to determine the type of an item is? In Python we have a the *type()* function. In the cell below, find out the type of  3, 3.0, '3', '3.0'  and [3, 3.0,'3', '3.0'].\n",
    "> We are going to use functions a lot, before long you will understand exactly how they work and even know how to create your own, but for now just think of them as a way to *ask* Python to do some work.  In the cell is known as **calling** the *type* function.  Functions have a name followed by left parenthesis, a data item and end with a right parenthesis."
   ]
  },
  {
   "cell_type": "code",
   "execution_count": null,
   "id": "112bf20b-79c2-43cd-9524-ed3fcd5ff9e0",
   "metadata": {},
   "outputs": [],
   "source": []
  },
  {
   "cell_type": "markdown",
   "id": "2dda7b13-5322-4cb2-9984-7707075fb87f",
   "metadata": {
    "tags": []
   },
   "source": [
    "What are the different types?  Here is a simple table, we will expand on this later.\n",
    "\n",
    "| Data Type | Python Expressions | Description                   | Example |\n",
    "|-----------|--------------------|-------------------------------|---------|\n",
    "|integer    | int                | A whole numeber               | 143267  |\n",
    "|decimal    | float              | A floating point number       | 3.13159 |\n",
    "|string     | str                | Set of characters in quotes   | \"Hello\" |\n",
    "|boolean    | bool               | anything evaluates true/false | True    |\n",
    "|List       | list               | An ordered list of values     | [1,4,5] |\n",
    "\n",
    "\n",
    "\n",
    "### How do we store values?\n",
    "\n",
    "To be useful we need a way to store values in computer's memory.  To this we need to be able to identify a location in memory.  We could use a memory address but that could get confusing, instead we given the location a name, and identifier.  In programming we call this a variable.  A ***variable*** is the name given to a part of the computers memory, designed to store aprticular data item.  It is called a variable because the value stored may change or vary as the program executes. The values we typed in above are know as literals. A **literal** is a constant whose *name* is the written representaiton of the value.  A ***constant*** is a data item with a name amd a value that will remian the same during the executation of a program.  We will use constants later.\n",
    "\n",
    "To store a value, we create a variable and then assign the value.  To assign  a value we use the equals (**=**) sign."
   ]
  },
  {
   "cell_type": "code",
   "execution_count": 4,
   "id": "1a4fdd7b-c2b2-4be3-be60-98fcb3da27d9",
   "metadata": {},
   "outputs": [
    {
     "name": "stdout",
     "output_type": "stream",
     "text": [
      "Value of x : 5\n",
      "Value of y : Hello, world !\n",
      "Value of z: 3.14\n"
     ]
    }
   ],
   "source": [
    "x = 5\n",
    "y = 'Hello, world !'\n",
    "z = 3.14\n",
    "\n",
    "#Printing tha values of variables\n",
    "print('Value of x :', x)\n",
    "print('Value of y :', y)\n",
    "print('Value of z:', z)\n"
   ]
  },
  {
   "cell_type": "markdown",
   "id": "0a2fb99e-a477-4f13-ae2e-510eab3e3d44",
   "metadata": {},
   "source": [
    "What is the type of a variable?  We can use the type() function to find out.\n",
    "> Notice how we can use a *variable* just like we use a *value* in the above cells"
   ]
  },
  {
   "cell_type": "code",
   "execution_count": 6,
   "id": "41ca8219-83d6-4aca-92bf-3835fdaa19fb",
   "metadata": {
    "scrolled": true
   },
   "outputs": [
    {
     "name": "stdout",
     "output_type": "stream",
     "text": [
      "Data type of x: <class 'int'>\n",
      "Data type of y: <class 'str'>\n",
      "Data type of z: <class 'float'>\n"
     ]
    }
   ],
   "source": [
    "x = 5\n",
    "y = 'Hello, world !'\n",
    "z = 3.14\n",
    "\n",
    "#check the data type of each variable\n",
    "print('Data type of x:', type(x))\n",
    "print('Data type of y:',type(y))\n",
    "print('Data type of z:',type(z))"
   ]
  },
  {
   "cell_type": "markdown",
   "id": "56ca1fd8-bddf-4bd7-af91-6487badc429f",
   "metadata": {},
   "source": [
    "We can assigned group items to variables"
   ]
  },
  {
   "cell_type": "code",
   "execution_count": 7,
   "id": "237a9327-373d-4224-92cf-8d922aa873a5",
   "metadata": {},
   "outputs": [
    {
     "name": "stdout",
     "output_type": "stream",
     "text": [
      "List assigned to variable my_list: ['apple', 'banana', 'orange', 'grape']\n"
     ]
    }
   ],
   "source": [
    "# Assigning a list to a variable\n",
    "my_list = [\"apple\", \"banana\", \"orange\", \"grape\"]\n",
    "\n",
    "# Accessing and printing the list through the variable\n",
    "print(\"List assigned to variable my_list:\", my_list)\n"
   ]
  },
  {
   "cell_type": "markdown",
   "id": "277f56d4-e52a-411d-8cae-5d0a84abde80",
   "metadata": {},
   "source": [
    "We can change a variable"
   ]
  },
  {
   "cell_type": "code",
   "execution_count": 8,
   "id": "0256c9c6-fe19-43e6-8945-bff88804d457",
   "metadata": {},
   "outputs": [
    {
     "name": "stdout",
     "output_type": "stream",
     "text": [
      "List assigned to variable my_list: ['apple', 'banana', 'orange', 'grape']\n"
     ]
    }
   ],
   "source": [
    "# Assigning a list to a variable\n",
    "my_list = [\"apple\", \"banana\", \"orange\", \"grape\"]\n",
    "\n",
    "# Accessing and printing the list through the variable\n",
    "print(\"List assigned to variable my_list:\", my_list)\n"
   ]
  },
  {
   "cell_type": "markdown",
   "id": "257d6ae7-d4bf-4c75-aae3-800511733978",
   "metadata": {
    "tags": []
   },
   "source": [
    "#### Naming rules\n",
    "\n",
    "Variable names must be unique and they are case sensitive.\n",
    "* Only letters, numbers, and the underscore character (_) can be used  ```this.is.not.allowed```\n",
    "* No spaces ```this is not allowed```\n",
    "* No quotes ```“NotAllowed”```\n",
    "* Can’t start with a number ```6notAllowed```\n",
    "* Can't be a keyword  ```import```\n",
    "\n",
    "#### Naming conventions\n",
    "We will learn other naming conventions, but for now\n",
    "* variable names should be meaningfuly (can someone else understand)\n",
    "* seperate words with underscores ```monthly_sales```  (this is called snake_case)\n",
    "\n",
    "\n",
    "\n",
    "# Perform Operations\n",
    "\n",
    "There are six basic computer operations.\n",
    "\n",
    "1. Receive Informaiton.\n",
    "1. Output information.\n",
    "1. Assign a value to a variable. There are three cases where you may assign a value to variable.\n",
    "    * give data an initial value.\n",
    "    * assign a value as a results of some processing\n",
    "    * to keep a piece of information for later use.\n",
    "1. Perform arithmetic.\n",
    "1. Compare two variables and select appropriate action.\n",
    "1. Repeat a group of actions.\n",
    "\n",
    "> When designing an algorithm you need to keep in mind that the set of instruction written will eventually be performed by a computer.  That is your words and phrases in the pseudocode which are in line with computer operations, the translation form pseudocode to specific programming language becomes quite simple.\n",
    "\n",
    "## Receive Information\n",
    "\n",
    "Python has a *input* function that will allow you to enter information form the keyboard."
   ]
  },
  {
   "cell_type": "code",
   "execution_count": 11,
   "id": "a92584fc-fa5c-4941-b747-b042849cb114",
   "metadata": {},
   "outputs": [
    {
     "name": "stdin",
     "output_type": "stream",
     "text": [
      "Enter your name:  Richa\n"
     ]
    },
    {
     "name": "stdout",
     "output_type": "stream",
     "text": [
      "Hello, Richa ! Welcome to our program.\n"
     ]
    }
   ],
   "source": [
    "# Receive information from the user\n",
    "name = input(\"Enter your name: \")\n",
    "\n",
    "# Output the received information\n",
    "print(\"Hello,\", name, \"! Welcome to our program.\")\n"
   ]
  },
  {
   "cell_type": "markdown",
   "id": "fb98df5c-aaba-47c6-b210-a69c413ed123",
   "metadata": {},
   "source": [
    "How does *input* work?\n",
    "1. The interpreter see the call to the *input* function, it take the prompt text and displays it for the user\n",
    "2. The interpreter then waits for the user to type in a repsonse, which the user completes by pressing the return key (also called the enter key)\n",
    "3. Finally the text the user types in is passed back to your code.\n",
    "\n",
    "Now, the text isint going to be useful if we cant remember it for later.  To do this we store the *return value* to a variable"
   ]
  },
  {
   "cell_type": "code",
   "execution_count": 15,
   "id": "5636b5db-1114-40bb-a88f-47874c11890e",
   "metadata": {},
   "outputs": [
    {
     "name": "stdin",
     "output_type": "stream",
     "text": [
      "Enter your name:  Richa\n"
     ]
    },
    {
     "name": "stdout",
     "output_type": "stream",
     "text": [
      "Hello, Richa ! Welcome to our program.\n"
     ]
    }
   ],
   "source": [
    "\n",
    "# Prompt the user to enter their name and store it in a variable\n",
    "name = input(\"Enter your name: \")\n",
    "\n",
    "# Use the stored name variable to greet the user\n",
    "print(\"Hello,\", name, \"! Welcome to our program.\")\n"
   ]
  },
  {
   "cell_type": "markdown",
   "id": "25087e0c-c18a-4478-b79a-01fbcefb8bc9",
   "metadata": {},
   "source": [
    "## Output Information\n",
    "\n",
    "Python has a *print* function that can output a message to the screen"
   ]
  },
  {
   "cell_type": "code",
   "execution_count": 16,
   "id": "f600bbf8-e6d3-44f3-8301-86952bf50156",
   "metadata": {},
   "outputs": [
    {
     "name": "stdout",
     "output_type": "stream",
     "text": [
      "Hello, world!\n",
      "Hello, Richa ! Welcome to our program.\n",
      "The value of x is:  10 and the value of y is: 20\n"
     ]
    }
   ],
   "source": [
    "# Output a message using the print function\n",
    "print('Hello, world!')\n",
    "#Define a variable\n",
    "name = \"Richa\"\n",
    "#Output a dynamic message using the print function\n",
    "print(\"Hello,\",name, \"! Welcome to our program.\")\n",
    "# Define variables\n",
    "x = 10\n",
    "y = 20\n",
    "#Output multiple values using the print function\n",
    "print(\"The value of x is: \", x, \"and the value of y is:\",y)"
   ]
  },
  {
   "cell_type": "markdown",
   "id": "5964a396-2596-47ba-b7b9-ca950cc6fa52",
   "metadata": {},
   "source": [
    "The interpreter sees the call to the *print* function, it takes the message text and displys it to the user.\n",
    "\n",
    "Can we print variables?"
   ]
  },
  {
   "cell_type": "code",
   "execution_count": 18,
   "id": "d09bdd9a-f5f0-426e-baf6-3d20472f19a5",
   "metadata": {},
   "outputs": [
    {
     "name": "stdout",
     "output_type": "stream",
     "text": [
      "Richa\n",
      "The value of x is: 12\n",
      "The value of y is: 25\n"
     ]
    }
   ],
   "source": [
    "# Define a variable\n",
    "name = \"Richa\"\n",
    "\n",
    "# Print the variable using the print function\n",
    "print(name)\n",
    "\n",
    "# Define variables\n",
    "x = 12\n",
    "y = 25\n",
    "\n",
    "# Print variables and a string using the print function\n",
    "print(\"The value of x is:\", x)\n",
    "print(\"The value of y is:\", y)\n",
    "\n"
   ]
  },
  {
   "cell_type": "markdown",
   "id": "77cb490e-4c83-4073-97b2-0c8ca66f0158",
   "metadata": {},
   "source": [
    "As you can see the *print* function will take a **literial** or a **variable**.  We will see later that the *print* function can do more, but this is a good start.\n",
    "\n",
    "## Assign a value to a variable\n",
    "\n",
    "We have seen each of three cases, but I will repeat here for clarity.\n",
    "\n",
    "I have added some *comments* to the code.  Comments are just notes after the **#** marks.  We use comments to explain the purpose of the code.  Comments can be thought of as helpful pseudocode."
   ]
  },
  {
   "cell_type": "code",
   "execution_count": 19,
   "id": "9311e0b3-9933-4839-8263-a8c963bcef03",
   "metadata": {},
   "outputs": [
    {
     "name": "stdout",
     "output_type": "stream",
     "text": [
      "The result is: 42\n"
     ]
    }
   ],
   "source": [
    "# example of giving a variable an initial value\n",
    "x = 6\n",
    "  \n",
    "\n",
    "# example of assigning a value as a result of some processing\n",
    "y = x * 6\n",
    "\n",
    "# example of using a piece of information later\n",
    "result = x + y\n",
    "\n",
    "#Output teh result\n",
    "print('The result is:', result)\n"
   ]
  },
  {
   "cell_type": "markdown",
   "id": "7882c412-459a-413f-aed8-44bd52789a47",
   "metadata": {},
   "source": [
    "## Perform Arithmetic\n",
    "\n",
    "\n",
    "| Operation | Description           | Example       |  Result  |\n",
    "|:---------:|-----------------------|---------------|----------|\n",
    "| ```+```   | Addition              | ```3 + 2.2``` | ```5.2```|\n",
    "| ```-```   | Subtraction           | ```5 - 2```   | ```3```  |\n",
    "| ```*```   | Multiplication        | ```3 * 8```   | ```24``` |\n",
    "| ```**```  | Raise to the power of | ```3 ** 2```  | ```9```  |\n",
    "| ```/```   | Division              | ```5/2```     | ```2.5```|\n",
    "| ```//```  | Integer Division      | ```5/2```     | ```2```  |\n",
    "| ```%```   | Modulo                | ```5%2```     | ```1```  |\n",
    "\n",
    "Use the cell below to try out some of the examples"
   ]
  },
  {
   "cell_type": "code",
   "execution_count": 25,
   "id": "4f02a3c4-92df-4b56-9699-8627467a6e14",
   "metadata": {},
   "outputs": [
    {
     "name": "stdout",
     "output_type": "stream",
     "text": [
      "addition result: 10.120000000000001\n",
      "Substraction result: 4\n",
      "Multiplication result: 72\n",
      "Raise to the power of result: 4\n",
      "Division result: 2.0\n",
      "Integer Division result: 3\n"
     ]
    },
    {
     "ename": "NameError",
     "evalue": "name 'result_modulo' is not defined",
     "output_type": "error",
     "traceback": [
      "\u001b[1;31m---------------------------------------------------------------------------\u001b[0m",
      "\u001b[1;31mNameError\u001b[0m                                 Traceback (most recent call last)",
      "Cell \u001b[1;32mIn[25], line 27\u001b[0m\n\u001b[0;32m     25\u001b[0m \u001b[38;5;66;03m# Modulo\u001b[39;00m\n\u001b[0;32m     26\u001b[0m result_modul0 \u001b[38;5;241m=\u001b[39m \u001b[38;5;241m6\u001b[39m \u001b[38;5;241m%\u001b[39m \u001b[38;5;241m3\u001b[39m\n\u001b[1;32m---> 27\u001b[0m \u001b[38;5;28mprint\u001b[39m(\u001b[38;5;124m'\u001b[39m\u001b[38;5;124mModulo result:\u001b[39m\u001b[38;5;124m'\u001b[39m,\u001b[43mresult_modulo\u001b[49m)\n",
      "\u001b[1;31mNameError\u001b[0m: name 'result_modulo' is not defined"
     ]
    }
   ],
   "source": [
    "# Addition\n",
    "result_addition = 4 + 6.12\n",
    "print('addition result:', result_addition)\n",
    "\n",
    "# Substraction\n",
    "result_substraction = 6 - 2\n",
    "print('Substraction result:', result_substraction)\n",
    "\n",
    "# Multiplication\n",
    "result_multiplication = 6 * 12\n",
    "print('Multiplication result:', result_multiplication)\n",
    "\n",
    "# Raise to the power of\n",
    "result_power = 2 ** 2\n",
    "print('Raise to the power of result:', result_power)\n",
    "\n",
    "# Division\n",
    "result_division = 12 / 6\n",
    "print('Division result:', result_division)\n",
    "\n",
    "#Integer Division\n",
    "result_integer_division = 6 // 2\n",
    "print('Integer Division result:', result_integer_division)\n",
    "\n",
    "# Modulo\n",
    "result_modul0 = 6 % 3\n",
    "print('Modulo result:',result_modulo)\n"
   ]
  },
  {
   "cell_type": "markdown",
   "id": "26d55bd3-e43b-4bb4-b0f9-cc3c46152ea0",
   "metadata": {},
   "source": [
    "```3 + 2.2``` is called an expression.  When you evaluate an expression you can store the result into a variable"
   ]
  },
  {
   "cell_type": "code",
   "execution_count": 1,
   "id": "b9db7b35-3936-48a4-b3ae-957fc9ac6468",
   "metadata": {},
   "outputs": [
    {
     "name": "stdout",
     "output_type": "stream",
     "text": [
      "The result of the expression 8 + 3.2 is: 11.2\n"
     ]
    }
   ],
   "source": [
    "# Evaluate the expression and store the result in a variable\n",
    "result = 8 + 3.2\n",
    "\n",
    "# Print the result\n",
    "print(\"The result of the expression 8 + 3.2 is:\", result)\n"
   ]
  },
  {
   "cell_type": "markdown",
   "id": "37f7414e-0a5f-42ba-9e21-e37ab1e1a27e",
   "metadata": {},
   "source": [
    "You can print expresisons"
   ]
  },
  {
   "cell_type": "code",
   "execution_count": 2,
   "id": "9bb15522-6a92-40a1-b83e-571081a9b66d",
   "metadata": {},
   "outputs": [
    {
     "name": "stdout",
     "output_type": "stream",
     "text": [
      "The result of the expression 8 + 4.2 is: 12.2\n"
     ]
    }
   ],
   "source": [
    "# Print the result of the expression\n",
    "print(\"The result of the expression 8 + 4.2 is:\", 8 + 4.2)\n"
   ]
  },
  {
   "cell_type": "markdown",
   "id": "99c9524a-68a8-41c9-9266-1ce1f07e39ec",
   "metadata": {},
   "source": [
    "Can perform arithmetic with variables"
   ]
  },
  {
   "cell_type": "code",
   "execution_count": 3,
   "id": "1b877516-548e-4f00-88c2-d9ce1651d2c0",
   "metadata": {},
   "outputs": [
    {
     "name": "stdout",
     "output_type": "stream",
     "text": [
      "The result of 6 + 1.2 is: 7.2\n"
     ]
    }
   ],
   "source": [
    "# Define variables\n",
    "x = 6\n",
    "y = 1.2\n",
    "\n",
    "# Perform arithmetic operation using variables\n",
    "result = x + y\n",
    "\n",
    "# Print the result\n",
    "print(\"The result of\", x, \"+\", y, \"is:\", result)\n"
   ]
  },
  {
   "cell_type": "markdown",
   "id": "07d15980-3e1a-4a0c-8e68-599c09591dda",
   "metadata": {},
   "source": [
    "Lets sum two number input form the user"
   ]
  },
  {
   "cell_type": "code",
   "execution_count": 4,
   "id": "3c090a42-004e-4922-bd72-ed59ff88cb53",
   "metadata": {},
   "outputs": [
    {
     "name": "stdin",
     "output_type": "stream",
     "text": [
      "Enter the first number:  6\n",
      "Enter the second number:  12\n"
     ]
    },
    {
     "name": "stdout",
     "output_type": "stream",
     "text": [
      "The sum of 6.0 and 12.0 is: 18.0\n"
     ]
    }
   ],
   "source": [
    "# Receive two numbers from the user\n",
    "num1 = float(input(\"Enter the first number: \"))\n",
    "num2 = float(input(\"Enter the second number: \"))\n",
    "\n",
    "# Perform addition\n",
    "sum_result = num1 + num2\n",
    "\n",
    "# Print the result\n",
    "print(\"The sum of\", num1, \"and\", num2, \"is:\", sum_result)\n"
   ]
  },
  {
   "cell_type": "markdown",
   "id": "9e2da386-c608-408e-9dee-af674c646c06",
   "metadata": {},
   "source": [
    "What happened?  It didn't add the input, it joined(concatenated) the input.  Lets run the next two cell to investigate."
   ]
  },
  {
   "cell_type": "code",
   "execution_count": 5,
   "id": "43dc5d55-891a-4667-888c-63a681ba0a26",
   "metadata": {},
   "outputs": [
    {
     "name": "stdin",
     "output_type": "stream",
     "text": [
      "Enter the first number:  6\n",
      "Enter the second number:  12\n"
     ]
    },
    {
     "name": "stdout",
     "output_type": "stream",
     "text": [
      "Type of num1: <class 'str'>\n",
      "Type of num2: <class 'str'>\n"
     ]
    }
   ],
   "source": [
    "# Receive two numbers from the user\n",
    "num1 = input(\"Enter the first number: \")\n",
    "num2 = input(\"Enter the second number: \")\n",
    "\n",
    "# Print the types of variables num1 and num2\n",
    "print(\"Type of num1:\", type(num1))\n",
    "print(\"Type of num2:\", type(num2))\n"
   ]
  },
  {
   "cell_type": "code",
   "execution_count": null,
   "id": "3abe5441-1764-49eb-9f25-ccce75269cdd",
   "metadata": {},
   "outputs": [],
   "source": []
  },
  {
   "cell_type": "markdown",
   "id": "2afd9f3d-c0d9-421c-bfe5-f76538b82793",
   "metadata": {},
   "source": [
    "So the data type of the variables were string.  So the *input* function must return a *str* data type.\n",
    "\n",
    "There is a way we can convert, we can use the *int* function.  So \"12\" is a string os the characters '1' followed by the character '2'.  To convert the string we use the int(\"12\"), and this will return the number 12."
   ]
  },
  {
   "cell_type": "code",
   "execution_count": 6,
   "id": "c3e8c802-0638-4b59-9067-24fbb94acca6",
   "metadata": {},
   "outputs": [
    {
     "name": "stdin",
     "output_type": "stream",
     "text": [
      "Enter the first number:  12\n",
      "Enter the second number:  6\n"
     ]
    },
    {
     "name": "stdout",
     "output_type": "stream",
     "text": [
      "The sum of 12.0 and 6.0 is: 18.0\n"
     ]
    }
   ],
   "source": [
    "# Receive two numbers from the user and convert them to integers\n",
    "num1 = float(input(\"Enter the first number: \"))\n",
    "num2 = float(input(\"Enter the second number: \"))\n",
    "\n",
    "# Perform addition\n",
    "sum_result = num1 + num2\n",
    "\n",
    "# Print the result\n",
    "print(\"The sum of\", num1, \"and\", num2, \"is:\", sum_result)\n"
   ]
  },
  {
   "cell_type": "markdown",
   "id": "73a4d763-46da-4c8d-a61c-3acfa8e336b5",
   "metadata": {},
   "source": [
    "## Compare Two Variables\n",
    "\n",
    "Here is a simple program prints out the maximun of two numbers.  This also demonstrates some features of the Python language.\n",
    "\n",
    "> New lines are used to separate logical statements (similar to a period at the end of a sentence).\n",
    ">\n",
    "> Whitespaces (spaces and tabs) are used to indicate which statements should be grouped together (called blocks) \n",
    ">\n",
    "> Colons (:) are used to indicate the continuation of an idea at a deeper level. \n",
    "\n",
    "Try changing the numbers, and rerun the cell.  What happens if you swap *>* for *<*?   What is *<*? We use a *relational operator* to ask a True/False question about the realtionship between two variables.  The followinf table show the relational operators used in Python. \n",
    "\n",
    "\n",
    "| Operation | Description            | Example           |  Result     |\n",
    "|:---------:|------------------------|-------------------|-------------|\n",
    "| ```<```   | Less than              | ```3 < 2```       | ```False``` |\n",
    "| ```>```   | Greater than           | ```3 > 2```       | ```True```  |\n",
    "| ```<=```  | Less than or equal     | ```3 <= 2```      | ```False``` |\n",
    "| ```>=```  | greater than or equal  | ```3 >= 2```      | ```True```  |\n",
    "| ```==```  | equal to               | ```3 == 2```      | ```False``` |\n",
    "| ```!=```  | not equal to           | ```3 != 2```      | ```True```  |\n",
    "| ```not``` | not                    | ```not(3 == 2)``` | ```True```  |"
   ]
  },
  {
   "cell_type": "code",
   "execution_count": null,
   "id": "b51f5001-2df5-42d1-99e8-850a4994048a",
   "metadata": {},
   "outputs": [],
   "source": []
  },
  {
   "cell_type": "markdown",
   "id": "3f2fd3f9-31d2-49a1-84bc-9b71fe393a77",
   "metadata": {},
   "source": [
    "Notice the keyword are highlighted in a different colour.  This example uses a boolean expresison: ```first_number > second_number```.  A boolean expression is an *epxression* the evaluates to *True* or *False*.  The expresiosn uses a *relational operator*.  \n",
    "\n",
    " Can you write a version that prompts the user for the numbers?  What happens if you enter in the same number?"
   ]
  },
  {
   "cell_type": "code",
   "execution_count": 7,
   "id": "137a88a9-e2eb-4ace-b1cc-b7fdf260941e",
   "metadata": {},
   "outputs": [
    {
     "name": "stdin",
     "output_type": "stream",
     "text": [
      "Enter the first number:  6\n",
      "Enter the second number:  12\n"
     ]
    },
    {
     "name": "stdout",
     "output_type": "stream",
     "text": [
      "The maximum of 6.0 and 12.0 is: 12.0\n"
     ]
    }
   ],
   "source": [
    "# Prompt the user to enter the first number\n",
    "first_number = float(input(\"Enter the first number: \"))\n",
    "\n",
    "# Prompt the user to enter the second number\n",
    "second_number = float(input(\"Enter the second number: \"))\n",
    "\n",
    "# Compare the two numbers and print the maximum\n",
    "if first_number > second_number:\n",
    "    print(\"The maximum of\", first_number, \"and\", second_number, \"is:\", first_number)\n",
    "elif second_number > first_number:\n",
    "    print(\"The maximum of\", first_number, \"and\", second_number, \"is:\", second_number)\n",
    "else:\n",
    "    print(\"Both numbers are equal.\")\n"
   ]
  },
  {
   "cell_type": "code",
   "execution_count": null,
   "id": "7eb27a8b-f622-456b-9a87-bd9a3073ec30",
   "metadata": {},
   "outputs": [],
   "source": []
  },
  {
   "cell_type": "markdown",
   "id": "54c8ec64-39d6-4e96-afb1-d36615f738bb",
   "metadata": {},
   "source": [
    "#### Repeat a group of actions\n",
    "\n",
    "Lets say I want to print out a countdown.  I could do a print statement for each."
   ]
  },
  {
   "cell_type": "code",
   "execution_count": null,
   "id": "9e953c23-894f-48e8-a2ed-981e5e698af2",
   "metadata": {},
   "outputs": [],
   "source": [
    "print(10)\n",
    "print(9)\n",
    "print(8)\n",
    "print(7)\n",
    "print(6)\n",
    "print(5)\n",
    "print(4)\n",
    "print(3)\n",
    "print(2)\n",
    "print(1)\n",
    "print(\"Blast Off!\")"
   ]
  },
  {
   "cell_type": "markdown",
   "id": "eda408c4-53ac-4250-8982-4b96f62e75d8",
   "metadata": {},
   "source": [
    "Notice that each line is very similar, a print statement, and just printing out a different number.\n",
    "\n",
    "It turns out, repeating something is very common in programming and all languages provide way to do this easier.  In Python we can use the *for* loop. We will use a list of numbers.  Recall in Python a *list* is ordered.   There are other way to do this, but this notebook is to just give us a understanding.  We will explore loops in more detail in later notebooks."
   ]
  },
  {
   "cell_type": "code",
   "execution_count": 8,
   "id": "ca532d99-2994-46f4-a3a8-64506790c51a",
   "metadata": {},
   "outputs": [
    {
     "name": "stdout",
     "output_type": "stream",
     "text": [
      "10\n",
      "9\n",
      "8\n",
      "7\n",
      "6\n",
      "5\n",
      "4\n",
      "3\n",
      "2\n",
      "1\n",
      "Blast Off!\n"
     ]
    }
   ],
   "source": [
    "# Use a for loop to print out a countdown\n",
    "for i in range(10, 0, -1):\n",
    "    print(i)\n",
    "\n",
    "# Print \"Blast Off!\" after the countdown\n",
    "print(\"Blast Off!\")\n"
   ]
  },
  {
   "cell_type": "code",
   "execution_count": null,
   "id": "9c347bcc-5256-45fe-93fe-34feca842319",
   "metadata": {},
   "outputs": [],
   "source": []
  }
 ],
 "metadata": {
  "kernelspec": {
   "display_name": "Python 3 (ipykernel)",
   "language": "python",
   "name": "python3"
  },
  "language_info": {
   "codemirror_mode": {
    "name": "ipython",
    "version": 3
   },
   "file_extension": ".py",
   "mimetype": "text/x-python",
   "name": "python",
   "nbconvert_exporter": "python",
   "pygments_lexer": "ipython3",
   "version": "3.12.2"
  }
 },
 "nbformat": 4,
 "nbformat_minor": 5
}
