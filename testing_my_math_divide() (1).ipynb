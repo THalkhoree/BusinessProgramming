{
 "cells": [
  {
   "cell_type": "markdown",
   "metadata": {
    "colab_type": "text",
    "id": "view-in-github"
   },
   "source": [
    "<a href=\"https://colab.research.google.com/github/michael-borck/isys2001-worksheets/blob/main/testing_my_math_divide().ipynb\" target=\"_parent\"><img src=\"https://colab.research.google.com/assets/colab-badge.svg\" alt=\"Open In Colab\"/></a>"
   ]
  },
  {
   "cell_type": "markdown",
   "metadata": {
    "id": "LIfoDVzKX7uK"
   },
   "source": [
    "## Testing  my_math.divide()\n",
    "\n",
    "What is your preferred testing strategy? Do you like using the assert statement or prefer doctest?  \n",
    "\n",
    "Using your preferred testing strategy, develop a test table and test the following funciton.  Where required update the function so all test behave as expected.\n",
    "\n",
    "\n",
    "## Function to test"
   ]
  },
  {
   "cell_type": "code",
   "execution_count": null,
   "metadata": {
    "id": "YH9gDoOYvKwg"
   },
   "outputs": [],
   "source": [
    "def divide(x, y):\n",
    "    '''Divide first by second number'''\n",
    "    return x / y"
   ]
  },
  {
   "cell_type": "code",
   "execution_count": 8,
   "metadata": {},
   "outputs": [],
   "source": [
    "def divide(x, y):\n",
    "    '''Divide first by second number\n",
    "\n",
    "    >>> divide(10, 2)\n",
    "    5.0\n",
    "    >>> divide(0, 5)\n",
    "    0.0\n",
    "    >>> divide(8, 4)\n",
    "    2.0\n",
    "    >>> divide(10, 0)\n",
    "    Traceback (most recent call last):\n",
    "        ...\n",
    "    ZeroDivisionError: division by zero\n",
    "    '''\n",
    "    return x / y\n",
    "\n",
    "if __name__ == \"__main__\":\n",
    "    import doctest\n",
    "    doctest.testmod()\n",
    "\n"
   ]
  },
  {
   "cell_type": "markdown",
   "metadata": {
    "id": "JYSZ-53nLF6n"
   },
   "source": [
    "## Test Table\n",
    "\n",
    "List you test cases here."
   ]
  },
  {
   "cell_type": "code",
   "execution_count": 10,
   "metadata": {
    "id": "DMTITEmbLE_Z"
   },
   "outputs": [],
   "source": [
    "def test_divide():\n",
    "    assert divide(10, 2) == 5.0\n",
    "    assert divide(0, 5) == 0.0\n",
    "    assert divide(8, 4) == 2.0\n",
    "    try:\n",
    "        divide(10, 0)\n",
    "    except ZeroDivisionError:\n",
    "        assert True\n",
    "    else:\n",
    "        assert False, \"Expected ZeroDivisionError but no exception raised\"\n",
    "        "
   ]
  },
  {
   "cell_type": "code",
   "execution_count": null,
   "metadata": {},
   "outputs": [],
   "source": []
  }
 ],
 "metadata": {
  "colab": {
   "authorship_tag": "ABX9TyODlP0dJaXJJrIrxseGEvm3",
   "include_colab_link": true,
   "name": "testing_my_math.divide().ipynb",
   "provenance": []
  },
  "kernelspec": {
   "display_name": "Python 3 (ipykernel)",
   "language": "python",
   "name": "python3"
  },
  "language_info": {
   "codemirror_mode": {
    "name": "ipython",
    "version": 3
   },
   "file_extension": ".py",
   "mimetype": "text/x-python",
   "name": "python",
   "nbconvert_exporter": "python",
   "pygments_lexer": "ipython3",
   "version": "3.12.2"
  }
 },
 "nbformat": 4,
 "nbformat_minor": 4
}
